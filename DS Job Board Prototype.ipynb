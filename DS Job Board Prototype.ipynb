{
 "cells": [
  {
   "cell_type": "markdown",
   "metadata": {},
   "source": [
    "# Job Boards for Data Science\n",
    "\n",
    "\n",
    "\n"
   ]
  },
  {
   "cell_type": "markdown",
   "metadata": {},
   "source": [
    "<a id=\"toc\"></a>\n",
    "\n",
    "<br>\n",
    "<hr style=\"background-color: black; padding: 1px;\">\n",
    "<br>\n",
    "\n",
    "<h2>Table of Contents</h2>\n",
    "\n",
    "<br>\n",
    "\n",
    "<ol>\n",
    "    <h3><li><a href=\"#section1\">Defining functions to get job postings</a></li></h3>\n",
    "    <br>\n",
    "    <h3><li><a href=\"#section2\">Analyzing job postings</a></li></h3>\n",
    "    <br>\n",
    "    <h3><li><a href=\"#section3\">Analyzing job descriptions</a></li></h3>\n",
    "</ol>"
   ]
  },
  {
   "cell_type": "markdown",
   "metadata": {},
   "source": [
    "### Import needed libraries"
   ]
  },
  {
   "cell_type": "code",
   "execution_count": 345,
   "metadata": {},
   "outputs": [],
   "source": [
    "# web scraping\n",
    "from selenium import webdriver\n",
    "from selenium.webdriver.common.keys import Keys\n",
    "from selenium.webdriver.support.ui import WebDriverWait as wait\n",
    "from selenium.webdriver.chrome.options import Options\n",
    "chrome_options = Options()\n",
    "chrome_options.set_headless(headless=False) # decides whether to show the chrome window while executing web search\n",
    "\n",
    "# parsing web pages\n",
    "from bs4 import BeautifulSoup\n",
    "\n",
    "# plotting pacakges\n",
    "import matplotlib.pyplot as plt\n",
    "import seaborn as sns\n",
    "%matplotlib inline\n",
    "\n",
    "# ignore matplotlib/seaborn deprecation warning... it just looks ugly\n",
    "import warnings\n",
    "warnings.filterwarnings(\"ignore\", message=\"The 'normed' kwarg is deprecated, and has been \")\n",
    "\n",
    "# assortment of other libraries\n",
    "import re\n",
    "import time\n",
    "from nltk.corpus import stopwords\n",
    "import string\n",
    "from collections import Counter\n",
    "import pandas as pd\n",
    "import numpy as np"
   ]
  },
  {
   "cell_type": "markdown",
   "metadata": {},
   "source": [
    "<div align=\"right\">\n",
    "    <a href=\"#toc\">back to top</a>\n",
    "</div>\n",
    "<a id='section1'></a>\n",
    "\n",
    "### Define important functions"
   ]
  },
  {
   "cell_type": "markdown",
   "metadata": {},
   "source": [
    "**Web scrape Glassdoor**"
   ]
  },
  {
   "cell_type": "code",
   "execution_count": 257,
   "metadata": {},
   "outputs": [],
   "source": [
    "def get_glassdoor_data(job_search_term=\"Data Science\", location_search_term=\"California\", all_pages=True):\n",
    "    \n",
    "    notification_blocked = False\n",
    "    pages_searched = 0\n",
    "    all_jobs = 0\n",
    "    job_descriptions = []\n",
    "    job_pages = []\n",
    "\n",
    "    browser = webdriver.Chrome(chrome_options=chrome_options)\n",
    "\n",
    "    browser.get('https://www.glassdoor.com/index.htm')\n",
    "\n",
    "    search_job = browser.find_element_by_name('sc.keyword')  # Find the search box\n",
    "    search_job.clear()\n",
    "    search_job.send_keys(job_search_term)\n",
    "\n",
    "    location = browser.find_element_by_id('LocationSearch')\n",
    "    location.clear()\n",
    "    location.send_keys(location_search_term)\n",
    "    wait(browser, 3)\n",
    "    location.send_keys(Keys.RETURN)\n",
    "\n",
    "    while True:\n",
    "    \n",
    "        pages_searched += 1\n",
    "        \n",
    "        time.sleep(3) # wait for new page to load\n",
    "    \n",
    "        job_pages.append(browser.page_source) # data collection step\n",
    "\n",
    "        jobs = browser.find_elements_by_class_name('jl')\n",
    "\n",
    "        total_jobs = len(jobs)\n",
    "        all_jobs += total_jobs\n",
    "        jobs_counter = 0\n",
    "\n",
    "        for job in jobs:\n",
    "\n",
    "            try: \n",
    "                if not notification_blocked:\n",
    "                    try:\n",
    "                        wait(browser, 3)\n",
    "                        close_button = browser.find_element_by_class_name('mfp-close')\n",
    "                        close_button.click()\n",
    "                        print(\"Alert escaped\")\n",
    "                        notification_blocked = True\n",
    "                    except:\n",
    "                        print(\"no alert\")\n",
    "\n",
    "                job.click()\n",
    "\n",
    "                time.sleep(2) # wait for job description to load\n",
    "\n",
    "                job_descriptions.append(browser.page_source) # data collection step\n",
    "                jobs_counter += 1\n",
    "            except:\n",
    "                print(\"Issue clicking on job:\")\n",
    "                print(job)\n",
    "\n",
    "        if total_jobs != jobs_counter:\n",
    "            print(\"Only {0} jobs mined out of {1}.\".format(jobs_counter, total_jobs))\n",
    "        \n",
    "        if pages_searched % 10 == 0:\n",
    "            print(\"Mined {} jobs\".format(jobs_counter))\n",
    "    \n",
    "        try:\n",
    "            next_page = browser.find_element_by_class_name('next')\n",
    "            next_page.click()\n",
    "        except:\n",
    "            break;\n",
    "    \n",
    "    browser.quit()\n",
    "    \n",
    "    print(\"Number of pages searched = {}\".format(pages_searched))\n",
    "    print(\"Number of jobs mined = {}\".format(all_jobs))\n",
    "    \n",
    "    return(job_descriptions, job_pages)"
   ]
  },
  {
   "cell_type": "markdown",
   "metadata": {},
   "source": [
    "**Parse the search results pages**"
   ]
  },
  {
   "cell_type": "code",
   "execution_count": 220,
   "metadata": {},
   "outputs": [],
   "source": [
    "def parse_glassdoor_jobs(job_pages):\n",
    "    \n",
    "    data_dict = {\"company\":[], \"position\":[], \"location\":[], \"date\":[]}\n",
    "    \n",
    "    for page in job_pages:\n",
    "        \n",
    "        soup = BeautifulSoup(page, 'html.parser')\n",
    "        joblistings = soup.find_all('li', class_=\"jl\") \n",
    "    \n",
    "        for i in range(len(joblistings)):\n",
    "            try:\n",
    "                data_dict[\"date\"].append(joblistings[i].find('span', class_=\"hideHH nowrap\").get_text())\n",
    "            except:\n",
    "                data_dict[\"date\"].append(\"N/A\")\n",
    "            try:\n",
    "                data_dict[\"location\"].append(joblistings[i].find('span', class_=\"subtle loc\").get_text())\n",
    "            except:\n",
    "                data_dict[\"location\"].append(\"N/A\")\n",
    "            try:    \n",
    "                data_dict[\"company\"].append(joblistings[i].find('div', class_=\"flexbox empLoc\").find_next('div').text.split(' ' + chr(8211) + ' ')[0].strip())\n",
    "            except:\n",
    "                data_dict[\"company\"].append(\"N/A\")\n",
    "            try:\n",
    "                data_dict[\"position\"].append(joblistings[i].find('div', class_=\"flexbox\").get_text())\n",
    "            except:\n",
    "                data_dict[\"position\"].append(\"N/A\")\n",
    "        \n",
    "    df = pd.DataFrame.from_dict(data_dict)    \n",
    "    \n",
    "    return df\n",
    "        "
   ]
  },
  {
   "cell_type": "markdown",
   "metadata": {},
   "source": [
    "**Parse the job descriptions for key word counts**"
   ]
  },
  {
   "cell_type": "code",
   "execution_count": 229,
   "metadata": {},
   "outputs": [],
   "source": [
    "def parse_top_terms_glassdoor(job_descriptions):\n",
    "    \n",
    "    stop_words = set(stopwords.words('english'))\n",
    "\n",
    "    job_tokens = []\n",
    "    \n",
    "    for job in job_descriptions:\n",
    "        soup = BeautifulSoup(job, 'html.parser')\n",
    "        words = soup.find('div', id='JobDescriptionContainer')\n",
    "        words = words.text.strip().replace('\\n', ' ').translate(string.punctuation)\n",
    "        words = re.sub(r'[^\\w\\s]', '', words)\n",
    "        filtered_words = list(filter(lambda w: not w in stop_words, words.lower().split()))\n",
    "        job_tokens = job_tokens + filtered_words\n",
    "        \n",
    "    counted_words = Counter(job_tokens)\n",
    "    \n",
    "    return(counted_words)"
   ]
  },
  {
   "cell_type": "markdown",
   "metadata": {},
   "source": [
    "### Now let's get our data!"
   ]
  },
  {
   "cell_type": "code",
   "execution_count": 258,
   "metadata": {},
   "outputs": [
    {
     "name": "stdout",
     "output_type": "stream",
     "text": [
      "no alert\n",
      "Alert escaped\n",
      "Mined 30 jobs\n",
      "Issue clicking on job:\n",
      "<selenium.webdriver.remote.webelement.WebElement (session=\"ed1efe859ed73a4f2fc6187029eed42c\", element=\"0.42148129833726866-31\")>\n",
      "Only 30 jobs mined out of 31.\n",
      "Mined 0 jobs\n",
      "Number of pages searched = 20\n",
      "Number of jobs mined = 571\n"
     ]
    }
   ],
   "source": [
    "job_descriptions, job_pages = get_glassdoor_data()"
   ]
  },
  {
   "cell_type": "code",
   "execution_count": 259,
   "metadata": {},
   "outputs": [
    {
     "name": "stdout",
     "output_type": "stream",
     "text": [
      "Number of job descriptions = 570\n",
      "Number of job search result pages = 20\n"
     ]
    }
   ],
   "source": [
    "print(\"Number of job descriptions = {}\".format(len(job_descriptions)))\n",
    "print(\"Number of job search result pages = {}\".format(len(job_pages)))"
   ]
  },
  {
   "cell_type": "markdown",
   "metadata": {},
   "source": [
    "<div align=\"right\">\n",
    "    <a href=\"#toc\">back to top</a>\n",
    "</div>\n",
    "<a id='section2'></a>\n",
    "\n",
    "### Analyzing Job Postings\n",
    "\n",
    "(Using the function we built earlier)"
   ]
  },
  {
   "cell_type": "code",
   "execution_count": 260,
   "metadata": {},
   "outputs": [],
   "source": [
    "df = parse_glassdoor_jobs(job_pages)"
   ]
  },
  {
   "cell_type": "code",
   "execution_count": 261,
   "metadata": {},
   "outputs": [
    {
     "data": {
      "text/html": [
       "<div>\n",
       "<style scoped>\n",
       "    .dataframe tbody tr th:only-of-type {\n",
       "        vertical-align: middle;\n",
       "    }\n",
       "\n",
       "    .dataframe tbody tr th {\n",
       "        vertical-align: top;\n",
       "    }\n",
       "\n",
       "    .dataframe thead th {\n",
       "        text-align: right;\n",
       "    }\n",
       "</style>\n",
       "<table border=\"1\" class=\"dataframe\">\n",
       "  <thead>\n",
       "    <tr style=\"text-align: right;\">\n",
       "      <th></th>\n",
       "      <th>company</th>\n",
       "      <th>date</th>\n",
       "      <th>location</th>\n",
       "      <th>position</th>\n",
       "    </tr>\n",
       "  </thead>\n",
       "  <tbody>\n",
       "    <tr>\n",
       "      <th>0</th>\n",
       "      <td>Agoda</td>\n",
       "      <td>N/A</td>\n",
       "      <td>San Francisco, CA</td>\n",
       "      <td>Data Science Manager - Bangkok</td>\n",
       "    </tr>\n",
       "    <tr>\n",
       "      <th>1</th>\n",
       "      <td>Glassdoor</td>\n",
       "      <td>4 days ago</td>\n",
       "      <td>Mill Valley, CA</td>\n",
       "      <td>Lead Data Scientist, Decision Science</td>\n",
       "    </tr>\n",
       "    <tr>\n",
       "      <th>2</th>\n",
       "      <td>Datastax</td>\n",
       "      <td>6 days ago</td>\n",
       "      <td>Santa Clara, CA</td>\n",
       "      <td>Data Science Intern</td>\n",
       "    </tr>\n",
       "    <tr>\n",
       "      <th>3</th>\n",
       "      <td>StubHub</td>\n",
       "      <td>8 days ago</td>\n",
       "      <td>San Francisco, CA</td>\n",
       "      <td>Revenue Modeling &amp; Data Science Lead</td>\n",
       "    </tr>\n",
       "    <tr>\n",
       "      <th>4</th>\n",
       "      <td>M Theory Solutions</td>\n",
       "      <td>20 days ago</td>\n",
       "      <td>Palo Alto, CA</td>\n",
       "      <td>Data Scientist / Predictive Modeler</td>\n",
       "    </tr>\n",
       "  </tbody>\n",
       "</table>\n",
       "</div>"
      ],
      "text/plain": [
       "              company          date           location  \\\n",
       "0               Agoda           N/A  San Francisco, CA   \n",
       "1           Glassdoor    4 days ago    Mill Valley, CA   \n",
       "2            Datastax    6 days ago    Santa Clara, CA   \n",
       "3             StubHub    8 days ago  San Francisco, CA   \n",
       "4  M Theory Solutions   20 days ago      Palo Alto, CA   \n",
       "\n",
       "                                position  \n",
       "0         Data Science Manager - Bangkok  \n",
       "1  Lead Data Scientist, Decision Science  \n",
       "2                    Data Science Intern  \n",
       "3   Revenue Modeling & Data Science Lead  \n",
       "4    Data Scientist / Predictive Modeler  "
      ]
     },
     "execution_count": 261,
     "metadata": {},
     "output_type": "execute_result"
    }
   ],
   "source": [
    "df.head(n=5)"
   ]
  },
  {
   "cell_type": "code",
   "execution_count": 262,
   "metadata": {},
   "outputs": [
    {
     "data": {
      "text/plain": [
       "(571, 4)"
      ]
     },
     "execution_count": 262,
     "metadata": {},
     "output_type": "execute_result"
    }
   ],
   "source": [
    "df.shape"
   ]
  },
  {
   "cell_type": "markdown",
   "metadata": {},
   "source": [
    "Great, we have almost 600 job postings. Let's convert the 'date' column to something that will be easier to analyze."
   ]
  },
  {
   "cell_type": "code",
   "execution_count": 307,
   "metadata": {},
   "outputs": [
    {
     "data": {
      "text/plain": [
       "{' 10 days ago',\n",
       " ' 11 days ago',\n",
       " ' 12 days ago',\n",
       " ' 13 days ago',\n",
       " ' 14 days ago',\n",
       " ' 15 days ago',\n",
       " ' 16 days ago',\n",
       " ' 17 days ago',\n",
       " ' 18 days ago',\n",
       " ' 19 days ago',\n",
       " ' 20 days ago',\n",
       " ' 21 days ago',\n",
       " ' 22 days ago',\n",
       " ' 23 days ago',\n",
       " ' 24 days ago',\n",
       " ' 25 days ago',\n",
       " ' 26 days ago',\n",
       " ' 27 days ago',\n",
       " ' 28 days ago',\n",
       " ' 29 days ago',\n",
       " ' 30+ days ago',\n",
       " ' 4 days ago',\n",
       " ' 5 days ago',\n",
       " ' 6 days ago',\n",
       " ' 7 days ago',\n",
       " ' 8 days ago',\n",
       " ' 9 days ago',\n",
       " 'N/A'}"
      ]
     },
     "execution_count": 307,
     "metadata": {},
     "output_type": "execute_result"
    }
   ],
   "source": [
    "set(df['date'].tolist())"
   ]
  },
  {
   "cell_type": "markdown",
   "metadata": {},
   "source": [
    "We see that all time is in days, but we have N/As and 30 days or more is just 30+. Let's make them just a number without the words \"days ago\"."
   ]
  },
  {
   "cell_type": "code",
   "execution_count": 308,
   "metadata": {},
   "outputs": [],
   "source": [
    "def convert_date(date):\n",
    "    if date == 'N/A':\n",
    "        date = None\n",
    "    else:\n",
    "        date = re.search('\\d+', date).group(0)\n",
    "    return date"
   ]
  },
  {
   "cell_type": "code",
   "execution_count": 310,
   "metadata": {},
   "outputs": [],
   "source": [
    "df['date'] = df['date'].apply(convert_date)"
   ]
  },
  {
   "cell_type": "code",
   "execution_count": 311,
   "metadata": {},
   "outputs": [
    {
     "data": {
      "text/html": [
       "<div>\n",
       "<style scoped>\n",
       "    .dataframe tbody tr th:only-of-type {\n",
       "        vertical-align: middle;\n",
       "    }\n",
       "\n",
       "    .dataframe tbody tr th {\n",
       "        vertical-align: top;\n",
       "    }\n",
       "\n",
       "    .dataframe thead th {\n",
       "        text-align: right;\n",
       "    }\n",
       "</style>\n",
       "<table border=\"1\" class=\"dataframe\">\n",
       "  <thead>\n",
       "    <tr style=\"text-align: right;\">\n",
       "      <th></th>\n",
       "      <th>company</th>\n",
       "      <th>date</th>\n",
       "      <th>location</th>\n",
       "      <th>position</th>\n",
       "    </tr>\n",
       "  </thead>\n",
       "  <tbody>\n",
       "    <tr>\n",
       "      <th>0</th>\n",
       "      <td>Agoda</td>\n",
       "      <td>None</td>\n",
       "      <td>San Francisco, CA</td>\n",
       "      <td>Data Science Manager - Bangkok</td>\n",
       "    </tr>\n",
       "    <tr>\n",
       "      <th>1</th>\n",
       "      <td>Glassdoor</td>\n",
       "      <td>4</td>\n",
       "      <td>Mill Valley, CA</td>\n",
       "      <td>Lead Data Scientist, Decision Science</td>\n",
       "    </tr>\n",
       "    <tr>\n",
       "      <th>2</th>\n",
       "      <td>Datastax</td>\n",
       "      <td>6</td>\n",
       "      <td>Santa Clara, CA</td>\n",
       "      <td>Data Science Intern</td>\n",
       "    </tr>\n",
       "    <tr>\n",
       "      <th>3</th>\n",
       "      <td>StubHub</td>\n",
       "      <td>8</td>\n",
       "      <td>San Francisco, CA</td>\n",
       "      <td>Revenue Modeling &amp; Data Science Lead</td>\n",
       "    </tr>\n",
       "    <tr>\n",
       "      <th>4</th>\n",
       "      <td>M Theory Solutions</td>\n",
       "      <td>20</td>\n",
       "      <td>Palo Alto, CA</td>\n",
       "      <td>Data Scientist / Predictive Modeler</td>\n",
       "    </tr>\n",
       "  </tbody>\n",
       "</table>\n",
       "</div>"
      ],
      "text/plain": [
       "              company  date           location  \\\n",
       "0               Agoda  None  San Francisco, CA   \n",
       "1           Glassdoor     4    Mill Valley, CA   \n",
       "2            Datastax     6    Santa Clara, CA   \n",
       "3             StubHub     8  San Francisco, CA   \n",
       "4  M Theory Solutions    20      Palo Alto, CA   \n",
       "\n",
       "                                position  \n",
       "0         Data Science Manager - Bangkok  \n",
       "1  Lead Data Scientist, Decision Science  \n",
       "2                    Data Science Intern  \n",
       "3   Revenue Modeling & Data Science Lead  \n",
       "4    Data Scientist / Predictive Modeler  "
      ]
     },
     "execution_count": 311,
     "metadata": {},
     "output_type": "execute_result"
    }
   ],
   "source": [
    "df.head(n=5)"
   ]
  },
  {
   "cell_type": "markdown",
   "metadata": {},
   "source": [
    "**Plotting the distribution of dates:**"
   ]
  },
  {
   "cell_type": "code",
   "execution_count": 388,
   "metadata": {},
   "outputs": [
    {
     "data": {
      "image/png": "[encoded data removed]",
      "text/plain": [
       "<Figure size 1152x576 with 1 Axes>"
      ]
     },
     "metadata": {},
     "output_type": "display_data"
    }
   ],
   "source": [
    "# get the data ready\n",
    "dates = [int(x) for x in df['date'].tolist() if x is not None]\n",
    "min_date = np.min(dates)\n",
    "max_date = np.max(dates)\n",
    "num_bins = len(set(dates))\n",
    "\n",
    "fig, ax = plt.subplots(figsize=(16,8))\n",
    "major_ticks = np.arange(min_date,max_date+1,1)\n",
    "sns.distplot(dates, bins=num_bins, ax=ax)\n",
    "ax.set_title(\"Histogram of the Age of Job Postings\", fontsize=22);\n",
    "ax.set_ylabel(\"Frequency\", fontsize=16);\n",
    "ax.set_xlabel(\"Days since job was posted\", fontsize=16);\n",
    "ax.tick_params(labelsize=14);\n",
    "ax.set_xticks(major_ticks, minor=False);\n",
    "plt.xlim(min_date,max_date);"
   ]
  },
  {
   "cell_type": "markdown",
   "metadata": {},
   "source": [
    "**Two things to notice:**\n",
    "\n",
    "1) Most job postings are less than a week old and drop off steadily over time. This is likely why Glassdoor just says \"30+\" when a job posting is more than 30 days old.\n",
    "\n",
    "2) The data appears to cycle. Without looking into the data to confirm, the obvious interpretation is that employers aren't as likely to post jobs on the weekend."
   ]
  },
  {
   "cell_type": "markdown",
   "metadata": {},
   "source": [
    "<div align=\"right\">\n",
    "    <a href=\"#toc\">back to top</a>\n",
    "</div>\n",
    "<a id='section3'></a>\n",
    "\n",
    "### Analyzing words in job postings"
   ]
  },
  {
   "cell_type": "code",
   "execution_count": 263,
   "metadata": {},
   "outputs": [],
   "source": [
    "counted_words = parse_top_terms_glassdoor(job_descriptions)"
   ]
  },
  {
   "cell_type": "code",
   "execution_count": 284,
   "metadata": {},
   "outputs": [],
   "source": [
    "words = []\n",
    "counts = []\n",
    "\n",
    "for word in counted_words.keys():\n",
    "    words.append(word)\n",
    "    counts.append(counted_words[word])\n",
    "    \n",
    "df_word_counts = pd.DataFrame({\"word\":words, \"count\":counts})"
   ]
  },
  {
   "cell_type": "code",
   "execution_count": 382,
   "metadata": {},
   "outputs": [
    {
     "data": {
      "text/plain": [
       "(14674, 2)"
      ]
     },
     "execution_count": 382,
     "metadata": {},
     "output_type": "execute_result"
    }
   ],
   "source": [
    "df_word_counts.shape"
   ]
  },
  {
   "cell_type": "markdown",
   "metadata": {},
   "source": [
    "We scraped thousands of unique words from the job descriptions, however, even though we filtered out simple words like \"the\", \"a\", \"of\", most words in the list are not exactly data science skills:"
   ]
  },
  {
   "cell_type": "code",
   "execution_count": 383,
   "metadata": {},
   "outputs": [
    {
     "data": {
      "text/html": [
       "<div>\n",
       "<style scoped>\n",
       "    .dataframe tbody tr th:only-of-type {\n",
       "        vertical-align: middle;\n",
       "    }\n",
       "\n",
       "    .dataframe tbody tr th {\n",
       "        vertical-align: top;\n",
       "    }\n",
       "\n",
       "    .dataframe thead th {\n",
       "        text-align: right;\n",
       "    }\n",
       "</style>\n",
       "<table border=\"1\" class=\"dataframe\">\n",
       "  <thead>\n",
       "    <tr style=\"text-align: right;\">\n",
       "      <th></th>\n",
       "      <th>count</th>\n",
       "      <th>word</th>\n",
       "    </tr>\n",
       "  </thead>\n",
       "  <tbody>\n",
       "    <tr>\n",
       "      <th>10896</th>\n",
       "      <td>5327</td>\n",
       "      <td>data</td>\n",
       "    </tr>\n",
       "    <tr>\n",
       "      <th>8718</th>\n",
       "      <td>2350</td>\n",
       "      <td>experience</td>\n",
       "    </tr>\n",
       "    <tr>\n",
       "      <th>3622</th>\n",
       "      <td>1656</td>\n",
       "      <td>science</td>\n",
       "    </tr>\n",
       "    <tr>\n",
       "      <th>10780</th>\n",
       "      <td>1610</td>\n",
       "      <td>team</td>\n",
       "    </tr>\n",
       "    <tr>\n",
       "      <th>4897</th>\n",
       "      <td>1397</td>\n",
       "      <td>business</td>\n",
       "    </tr>\n",
       "    <tr>\n",
       "      <th>11965</th>\n",
       "      <td>1186</td>\n",
       "      <td>work</td>\n",
       "    </tr>\n",
       "    <tr>\n",
       "      <th>2044</th>\n",
       "      <td>1096</td>\n",
       "      <td>learning</td>\n",
       "    </tr>\n",
       "    <tr>\n",
       "      <th>14459</th>\n",
       "      <td>894</td>\n",
       "      <td>product</td>\n",
       "    </tr>\n",
       "    <tr>\n",
       "      <th>1914</th>\n",
       "      <td>878</td>\n",
       "      <td>machine</td>\n",
       "    </tr>\n",
       "    <tr>\n",
       "      <th>13163</th>\n",
       "      <td>840</td>\n",
       "      <td>analytics</td>\n",
       "    </tr>\n",
       "    <tr>\n",
       "      <th>12681</th>\n",
       "      <td>819</td>\n",
       "      <td>skills</td>\n",
       "    </tr>\n",
       "    <tr>\n",
       "      <th>12643</th>\n",
       "      <td>718</td>\n",
       "      <td>analysis</td>\n",
       "    </tr>\n",
       "    <tr>\n",
       "      <th>10923</th>\n",
       "      <td>708</td>\n",
       "      <td>years</td>\n",
       "    </tr>\n",
       "    <tr>\n",
       "      <th>5759</th>\n",
       "      <td>653</td>\n",
       "      <td>new</td>\n",
       "    </tr>\n",
       "    <tr>\n",
       "      <th>7594</th>\n",
       "      <td>650</td>\n",
       "      <td>engineering</td>\n",
       "    </tr>\n",
       "    <tr>\n",
       "      <th>4692</th>\n",
       "      <td>647</td>\n",
       "      <td>development</td>\n",
       "    </tr>\n",
       "    <tr>\n",
       "      <th>7705</th>\n",
       "      <td>646</td>\n",
       "      <td>teams</td>\n",
       "    </tr>\n",
       "    <tr>\n",
       "      <th>11056</th>\n",
       "      <td>599</td>\n",
       "      <td>working</td>\n",
       "    </tr>\n",
       "    <tr>\n",
       "      <th>12498</th>\n",
       "      <td>593</td>\n",
       "      <td>read</td>\n",
       "    </tr>\n",
       "    <tr>\n",
       "      <th>14014</th>\n",
       "      <td>592</td>\n",
       "      <td>ability</td>\n",
       "    </tr>\n",
       "  </tbody>\n",
       "</table>\n",
       "</div>"
      ],
      "text/plain": [
       "       count         word\n",
       "10896   5327         data\n",
       "8718    2350   experience\n",
       "3622    1656      science\n",
       "10780   1610         team\n",
       "4897    1397     business\n",
       "11965   1186         work\n",
       "2044    1096     learning\n",
       "14459    894      product\n",
       "1914     878      machine\n",
       "13163    840    analytics\n",
       "12681    819       skills\n",
       "12643    718     analysis\n",
       "10923    708        years\n",
       "5759     653          new\n",
       "7594     650  engineering\n",
       "4692     647  development\n",
       "7705     646        teams\n",
       "11056    599      working\n",
       "12498    593         read\n",
       "14014    592      ability"
      ]
     },
     "execution_count": 383,
     "metadata": {},
     "output_type": "execute_result"
    }
   ],
   "source": [
    "df_word_counts= df_word_counts.sort_values(\"count\", ascending=False)\n",
    "df_word_counts.head(n=20)"
   ]
  },
  {
   "cell_type": "markdown",
   "metadata": {},
   "source": [
    "Terms like \"data science\" that were split into two tokens both rank highly (not interesting / useful to us) and words like \"experience\" may say something interesting about data science job postings, perhaps that most require significant experience OR it might just be a common heading in job descriptions as might be \"responsibilities\" or \"education\".\n",
    "\n",
    "At any rate, it would be more interesting to see the relative "
   ]
  },
  {
   "cell_type": "markdown",
   "metadata": {},
   "source": [
    "**Define a list of words of interest to filter on**"
   ]
  },
  {
   "cell_type": "code",
   "execution_count": 380,
   "metadata": {},
   "outputs": [],
   "source": [
    "data_science_words = ['python','sql','r','hadoop','spark','d3.js','hive','matlab','excel',\n",
    "                      'nosql','aws','c','java','javascript','php','scala','tableau','cassandra',\n",
    "                      'etl','javascript','mahout','redis','redshift','machine','learning','deep',\n",
    "                      'tensorflow','keras','matplotlib','Ruby','Pig','mongodb','mysql','pandas',\n",
    "                      'numpy','scipy','linux','windows'\n",
    "                     ]"
   ]
  },
  {
   "cell_type": "code",
   "execution_count": 368,
   "metadata": {},
   "outputs": [],
   "source": [
    "df_ds_words = df_word_counts[df_word_counts[\"word\"].isin(data_science_words)]"
   ]
  },
  {
   "cell_type": "code",
   "execution_count": 375,
   "metadata": {},
   "outputs": [],
   "source": [
    "df_ds_words = df_ds_words.sort_values(\"count\", ascending=False)"
   ]
  },
  {
   "cell_type": "code",
   "execution_count": 381,
   "metadata": {},
   "outputs": [
    {
     "data": {
      "text/html": [
       "<div>\n",
       "<style scoped>\n",
       "    .dataframe tbody tr th:only-of-type {\n",
       "        vertical-align: middle;\n",
       "    }\n",
       "\n",
       "    .dataframe tbody tr th {\n",
       "        vertical-align: top;\n",
       "    }\n",
       "\n",
       "    .dataframe thead th {\n",
       "        text-align: right;\n",
       "    }\n",
       "</style>\n",
       "<table border=\"1\" class=\"dataframe\">\n",
       "  <thead>\n",
       "    <tr style=\"text-align: right;\">\n",
       "      <th></th>\n",
       "      <th>count</th>\n",
       "      <th>word</th>\n",
       "    </tr>\n",
       "  </thead>\n",
       "  <tbody>\n",
       "    <tr>\n",
       "      <th>2044</th>\n",
       "      <td>1096</td>\n",
       "      <td>learning</td>\n",
       "    </tr>\n",
       "    <tr>\n",
       "      <th>1914</th>\n",
       "      <td>878</td>\n",
       "      <td>machine</td>\n",
       "    </tr>\n",
       "    <tr>\n",
       "      <th>9139</th>\n",
       "      <td>420</td>\n",
       "      <td>python</td>\n",
       "    </tr>\n",
       "    <tr>\n",
       "      <th>13091</th>\n",
       "      <td>317</td>\n",
       "      <td>sql</td>\n",
       "    </tr>\n",
       "    <tr>\n",
       "      <th>5765</th>\n",
       "      <td>269</td>\n",
       "      <td>r</td>\n",
       "    </tr>\n",
       "    <tr>\n",
       "      <th>1840</th>\n",
       "      <td>256</td>\n",
       "      <td>deep</td>\n",
       "    </tr>\n",
       "    <tr>\n",
       "      <th>6724</th>\n",
       "      <td>179</td>\n",
       "      <td>spark</td>\n",
       "    </tr>\n",
       "    <tr>\n",
       "      <th>8485</th>\n",
       "      <td>140</td>\n",
       "      <td>hadoop</td>\n",
       "    </tr>\n",
       "    <tr>\n",
       "      <th>14306</th>\n",
       "      <td>116</td>\n",
       "      <td>java</td>\n",
       "    </tr>\n",
       "    <tr>\n",
       "      <th>10745</th>\n",
       "      <td>94</td>\n",
       "      <td>aws</td>\n",
       "    </tr>\n",
       "  </tbody>\n",
       "</table>\n",
       "</div>"
      ],
      "text/plain": [
       "       count      word\n",
       "2044    1096  learning\n",
       "1914     878   machine\n",
       "9139     420    python\n",
       "13091    317       sql\n",
       "5765     269         r\n",
       "1840     256      deep\n",
       "6724     179     spark\n",
       "8485     140    hadoop\n",
       "14306    116      java\n",
       "10745     94       aws"
      ]
     },
     "execution_count": 381,
     "metadata": {},
     "output_type": "execute_result"
    }
   ],
   "source": [
    "df_ds_words.head(n=10)"
   ]
  },
  {
   "cell_type": "code",
   "execution_count": 401,
   "metadata": {},
   "outputs": [
    {
     "data": {
      "image/png": "[encoded data removed]",
      "text/plain": [
       "<Figure size 1152x576 with 1 Axes>"
      ]
     },
     "metadata": {},
     "output_type": "display_data"
    }
   ],
   "source": [
    "sns.set(style='darkgrid')\n",
    "plt.figure(figsize=(16,8))\n",
    "ax = sns.barplot(x=\"word\",y=\"count\", color=\"#a5c8e1\", data=df_ds_words);\n",
    "ax.set_xticklabels(ax.get_xticklabels(),rotation=65);\n",
    "ax.set_title(\"Relative Frequency of Key Words in Data Scientist Job Postings\", fontsize=20);\n",
    "ax.set_ylabel(\"Number of Occurances\", fontsize=16);\n",
    "ax.set_xlabel(\"\");\n",
    "ax.tick_params(labelsize=14);\n",
    "major_ticks = np.arange(0,1001,100)\n",
    "ax.set_yticks(major_ticks, minor=False);\n",
    "# ax.grid(b=True, which='major', color='w', linewidth=1.0);"
   ]
  },
  {
   "cell_type": "markdown",
   "metadata": {},
   "source": []
  },
  {
   "cell_type": "markdown",
   "metadata": {},
   "source": [
    "***"
   ]
  },
  {
   "cell_type": "markdown",
   "metadata": {},
   "source": [
    "<div align=\"center\">\n",
    "    <a href=\"#toc\">back to top</a>\n",
    "</div>"
   ]
  }
 ],
 "metadata": {
  "kernelspec": {
   "display_name": "Python 3",
   "language": "python",
   "name": "python3"
  },
  "language_info": {
   "codemirror_mode": {
    "name": "ipython",
    "version": 3
   },
   "file_extension": ".py",
   "mimetype": "text/x-python",
   "name": "python",
   "nbconvert_exporter": "python",
   "pygments_lexer": "ipython3",
   "version": "3.5.0"
  }
 },
 "nbformat": 4,
 "nbformat_minor": 2
}
